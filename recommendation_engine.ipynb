{
  "nbformat": 4,
  "nbformat_minor": 5,
  "metadata": {
    "kernelspec": {
      "display_name": "Python 3",
      "language": "python",
      "name": "python3"
    },
    "language_info": {
      "codemirror_mode": {
        "name": "ipython",
        "version": 3
      },
      "file_extension": ".py",
      "mimetype": "text/x-python",
      "name": "python",
      "nbconvert_exporter": "python",
      "pygments_lexer": "ipython3",
      "version": "3.8.8"
    },
    "colab": {
      "name": "Untitled.ipynb",
      "provenance": []
    }
  },
  "cells": [
    {
      "cell_type": "code",
      "metadata": {
        "id": "97e5b6ff"
      },
      "source": [
        "import pandas as pd\n",
        "import numpy as np\n",
        "from sklearn.feature_extraction.text import CountVectorizer\n",
        "from sklearn.metrics.pairwise import cosine_similarity"
      ],
      "id": "97e5b6ff",
      "execution_count": null,
      "outputs": []
    },
    {
      "cell_type": "code",
      "metadata": {
        "id": "72dd1ef8"
      },
      "source": [
        "# importing the dataset\n",
        "df = pd.read_csv('bollywood.csv')\n"
      ],
      "id": "72dd1ef8",
      "execution_count": null,
      "outputs": []
    },
    {
      "cell_type": "code",
      "metadata": {
        "id": "928b035c",
        "outputId": "84e4fd64-6a9b-46c4-b342-f40c7e9c2264"
      },
      "source": [
        "df\n",
        "# this is our dataset which we imported"
      ],
      "id": "928b035c",
      "execution_count": null,
      "outputs": [
        {
          "output_type": "execute_result",
          "data": {
            "text/html": [
              "<div>\n",
              "<style scoped>\n",
              "    .dataframe tbody tr th:only-of-type {\n",
              "        vertical-align: middle;\n",
              "    }\n",
              "\n",
              "    .dataframe tbody tr th {\n",
              "        vertical-align: top;\n",
              "    }\n",
              "\n",
              "    .dataframe thead th {\n",
              "        text-align: right;\n",
              "    }\n",
              "</style>\n",
              "<table border=\"1\" class=\"dataframe\">\n",
              "  <thead>\n",
              "    <tr style=\"text-align: right;\">\n",
              "      <th></th>\n",
              "      <th>Year</th>\n",
              "      <th>Title</th>\n",
              "      <th>Director</th>\n",
              "      <th>Cast</th>\n",
              "      <th>Genre</th>\n",
              "      <th>Release Month</th>\n",
              "      <th>Release Date</th>\n",
              "      <th>Highest Grosser By Year(in crores)</th>\n",
              "    </tr>\n",
              "  </thead>\n",
              "  <tbody>\n",
              "    <tr>\n",
              "      <th>0</th>\n",
              "      <td>1920</td>\n",
              "      <td>Balika Badhu a.k.a. Baby Bride</td>\n",
              "      <td>P. T. Shaida (Tulsidutt Shaida)</td>\n",
              "      <td>shaida,pandit,ali,miss,tarak,bagcha,tulsidutt</td>\n",
              "      <td>social</td>\n",
              "      <td>NaN</td>\n",
              "      <td>NaN</td>\n",
              "      <td>NaN</td>\n",
              "    </tr>\n",
              "    <tr>\n",
              "      <th>1</th>\n",
              "      <td>1920</td>\n",
              "      <td>Daksha Yagna a.k.a. Sati Parvati</td>\n",
              "      <td>Vishnupant Divekar</td>\n",
              "      <td>prabha,khalil,vaidya</td>\n",
              "      <td>mythology</td>\n",
              "      <td>NaN</td>\n",
              "      <td>NaN</td>\n",
              "      <td>NaN</td>\n",
              "    </tr>\n",
              "    <tr>\n",
              "      <th>2</th>\n",
              "      <td>1920</td>\n",
              "      <td>Jalandhar Vrinda a.k.a. Sati Tulsi Vrinda</td>\n",
              "      <td>G. V. Sane</td>\n",
              "      <td>unknown</td>\n",
              "      <td>mythology</td>\n",
              "      <td>NaN</td>\n",
              "      <td>NaN</td>\n",
              "      <td>NaN</td>\n",
              "    </tr>\n",
              "    <tr>\n",
              "      <th>3</th>\n",
              "      <td>1920</td>\n",
              "      <td>Kansa Vadha a.k.a. End Of The Tyrant King</td>\n",
              "      <td>G. V. Sane</td>\n",
              "      <td>unknown</td>\n",
              "      <td>mythology</td>\n",
              "      <td>NaN</td>\n",
              "      <td>NaN</td>\n",
              "      <td>NaN</td>\n",
              "    </tr>\n",
              "    <tr>\n",
              "      <th>4</th>\n",
              "      <td>1920</td>\n",
              "      <td>Katorabhar Khoon a.k.a.The Stinger Stung a.k.a...</td>\n",
              "      <td>S. N. Patankar</td>\n",
              "      <td>koregaonkar,gokhale,vyas,trymbakrao,pradhan,ta...</td>\n",
              "      <td>social</td>\n",
              "      <td>NaN</td>\n",
              "      <td>NaN</td>\n",
              "      <td>NaN</td>\n",
              "    </tr>\n",
              "    <tr>\n",
              "      <th>...</th>\n",
              "      <td>...</td>\n",
              "      <td>...</td>\n",
              "      <td>...</td>\n",
              "      <td>...</td>\n",
              "      <td>...</td>\n",
              "      <td>...</td>\n",
              "      <td>...</td>\n",
              "      <td>...</td>\n",
              "    </tr>\n",
              "    <tr>\n",
              "      <th>9677</th>\n",
              "      <td>2019</td>\n",
              "      <td>Panipat</td>\n",
              "      <td>Ashutosh Gowariker</td>\n",
              "      <td>Sanjay DuttArjun KapoorKriti SanonKabir Bedi</td>\n",
              "      <td>Action/battle</td>\n",
              "      <td>DEC</td>\n",
              "      <td>6.0</td>\n",
              "      <td>NaN</td>\n",
              "    </tr>\n",
              "    <tr>\n",
              "      <th>9678</th>\n",
              "      <td>2019</td>\n",
              "      <td>Pati, Patni Aur Woh</td>\n",
              "      <td>Mudassar Aziz</td>\n",
              "      <td>Kartik AaryanBhumi PednekarAnanya Panday</td>\n",
              "      <td>Comedy</td>\n",
              "      <td>DEC</td>\n",
              "      <td>6.0</td>\n",
              "      <td>NaN</td>\n",
              "    </tr>\n",
              "    <tr>\n",
              "      <th>9679</th>\n",
              "      <td>2019</td>\n",
              "      <td>Mardaani 2</td>\n",
              "      <td>Gopi Puthran</td>\n",
              "      <td>Rani MukherjeeVikram Singh ChauhanShruti Bapna...</td>\n",
              "      <td>Crime Thriller</td>\n",
              "      <td>DEC</td>\n",
              "      <td>13.0</td>\n",
              "      <td>NaN</td>\n",
              "    </tr>\n",
              "    <tr>\n",
              "      <th>9680</th>\n",
              "      <td>2019</td>\n",
              "      <td>Dabangg 3</td>\n",
              "      <td>Prabhu Deva</td>\n",
              "      <td>Salman KhanSonakshi SinhaArbaaz KhanMahie Gill...</td>\n",
              "      <td>Action</td>\n",
              "      <td>DEC</td>\n",
              "      <td>20.0</td>\n",
              "      <td>NaN</td>\n",
              "    </tr>\n",
              "    <tr>\n",
              "      <th>9681</th>\n",
              "      <td>2019</td>\n",
              "      <td>Good News</td>\n",
              "      <td>Raj Mehta</td>\n",
              "      <td>Akshay KumarKareena KapoorDiljit DosanjhKiara ...</td>\n",
              "      <td>Comedy</td>\n",
              "      <td>DEC</td>\n",
              "      <td>27.0</td>\n",
              "      <td>NaN</td>\n",
              "    </tr>\n",
              "  </tbody>\n",
              "</table>\n",
              "<p>9682 rows × 8 columns</p>\n",
              "</div>"
            ],
            "text/plain": [
              "      Year                                              Title  \\\n",
              "0     1920                     Balika Badhu a.k.a. Baby Bride   \n",
              "1     1920                   Daksha Yagna a.k.a. Sati Parvati   \n",
              "2     1920          Jalandhar Vrinda a.k.a. Sati Tulsi Vrinda   \n",
              "3     1920          Kansa Vadha a.k.a. End Of The Tyrant King   \n",
              "4     1920  Katorabhar Khoon a.k.a.The Stinger Stung a.k.a...   \n",
              "...    ...                                                ...   \n",
              "9677  2019                                            Panipat   \n",
              "9678  2019                                Pati, Patni Aur Woh   \n",
              "9679  2019                                         Mardaani 2   \n",
              "9680  2019                                          Dabangg 3   \n",
              "9681  2019                                          Good News   \n",
              "\n",
              "                             Director  \\\n",
              "0     P. T. Shaida (Tulsidutt Shaida)   \n",
              "1                  Vishnupant Divekar   \n",
              "2                          G. V. Sane   \n",
              "3                          G. V. Sane   \n",
              "4                      S. N. Patankar   \n",
              "...                               ...   \n",
              "9677               Ashutosh Gowariker   \n",
              "9678                    Mudassar Aziz   \n",
              "9679                     Gopi Puthran   \n",
              "9680                      Prabhu Deva   \n",
              "9681                        Raj Mehta   \n",
              "\n",
              "                                                   Cast           Genre  \\\n",
              "0         shaida,pandit,ali,miss,tarak,bagcha,tulsidutt          social   \n",
              "1                                  prabha,khalil,vaidya       mythology   \n",
              "2                                               unknown       mythology   \n",
              "3                                               unknown       mythology   \n",
              "4     koregaonkar,gokhale,vyas,trymbakrao,pradhan,ta...          social   \n",
              "...                                                 ...             ...   \n",
              "9677       Sanjay DuttArjun KapoorKriti SanonKabir Bedi   Action/battle   \n",
              "9678           Kartik AaryanBhumi PednekarAnanya Panday          Comedy   \n",
              "9679  Rani MukherjeeVikram Singh ChauhanShruti Bapna...  Crime Thriller   \n",
              "9680  Salman KhanSonakshi SinhaArbaaz KhanMahie Gill...          Action   \n",
              "9681  Akshay KumarKareena KapoorDiljit DosanjhKiara ...          Comedy   \n",
              "\n",
              "     Release Month  Release Date  Highest Grosser By Year(in crores)  \n",
              "0              NaN           NaN                                 NaN  \n",
              "1              NaN           NaN                                 NaN  \n",
              "2              NaN           NaN                                 NaN  \n",
              "3              NaN           NaN                                 NaN  \n",
              "4              NaN           NaN                                 NaN  \n",
              "...            ...           ...                                 ...  \n",
              "9677           DEC           6.0                                 NaN  \n",
              "9678           DEC           6.0                                 NaN  \n",
              "9679           DEC          13.0                                 NaN  \n",
              "9680           DEC          20.0                                 NaN  \n",
              "9681           DEC          27.0                                 NaN  \n",
              "\n",
              "[9682 rows x 8 columns]"
            ]
          },
          "metadata": {
            "tags": []
          },
          "execution_count": 3
        }
      ]
    },
    {
      "cell_type": "code",
      "metadata": {
        "id": "01db9eed",
        "outputId": "9b4e6231-e71d-4db3-e637-6b63a365252d"
      },
      "source": [
        "df.columns\n",
        "# this shows us the name of the columns in our dataset"
      ],
      "id": "01db9eed",
      "execution_count": null,
      "outputs": [
        {
          "output_type": "execute_result",
          "data": {
            "text/plain": [
              "Index(['Year', 'Title', 'Director', 'Cast', 'Genre', 'Release Month',\n",
              "       'Release Date', 'Highest Grosser By Year(in crores)'],\n",
              "      dtype='object')"
            ]
          },
          "metadata": {
            "tags": []
          },
          "execution_count": 4
        }
      ]
    },
    {
      "cell_type": "code",
      "metadata": {
        "id": "791aa680"
      },
      "source": [
        "df.drop(['Release Month'], axis = 1, inplace = True)\n",
        "df.drop(['Release Date'], axis = 1, inplace = True)\n",
        "df.drop(['Highest Grosser By Year(in crores)'], axis = 1, inplace = True)\n",
        "# dropping the un-neccessary columns from our dataset.\n"
      ],
      "id": "791aa680",
      "execution_count": null,
      "outputs": []
    },
    {
      "cell_type": "code",
      "metadata": {
        "id": "899f63b7",
        "outputId": "33267998-4ac1-4919-b4fa-5edc85dd34e5"
      },
      "source": [
        "df"
      ],
      "id": "899f63b7",
      "execution_count": null,
      "outputs": [
        {
          "output_type": "execute_result",
          "data": {
            "text/html": [
              "<div>\n",
              "<style scoped>\n",
              "    .dataframe tbody tr th:only-of-type {\n",
              "        vertical-align: middle;\n",
              "    }\n",
              "\n",
              "    .dataframe tbody tr th {\n",
              "        vertical-align: top;\n",
              "    }\n",
              "\n",
              "    .dataframe thead th {\n",
              "        text-align: right;\n",
              "    }\n",
              "</style>\n",
              "<table border=\"1\" class=\"dataframe\">\n",
              "  <thead>\n",
              "    <tr style=\"text-align: right;\">\n",
              "      <th></th>\n",
              "      <th>Year</th>\n",
              "      <th>Title</th>\n",
              "      <th>Director</th>\n",
              "      <th>Cast</th>\n",
              "      <th>Genre</th>\n",
              "    </tr>\n",
              "  </thead>\n",
              "  <tbody>\n",
              "    <tr>\n",
              "      <th>0</th>\n",
              "      <td>1920</td>\n",
              "      <td>Balika Badhu a.k.a. Baby Bride</td>\n",
              "      <td>P. T. Shaida (Tulsidutt Shaida)</td>\n",
              "      <td>shaida,pandit,ali,miss,tarak,bagcha,tulsidutt</td>\n",
              "      <td>social</td>\n",
              "    </tr>\n",
              "    <tr>\n",
              "      <th>1</th>\n",
              "      <td>1920</td>\n",
              "      <td>Daksha Yagna a.k.a. Sati Parvati</td>\n",
              "      <td>Vishnupant Divekar</td>\n",
              "      <td>prabha,khalil,vaidya</td>\n",
              "      <td>mythology</td>\n",
              "    </tr>\n",
              "    <tr>\n",
              "      <th>2</th>\n",
              "      <td>1920</td>\n",
              "      <td>Jalandhar Vrinda a.k.a. Sati Tulsi Vrinda</td>\n",
              "      <td>G. V. Sane</td>\n",
              "      <td>unknown</td>\n",
              "      <td>mythology</td>\n",
              "    </tr>\n",
              "    <tr>\n",
              "      <th>3</th>\n",
              "      <td>1920</td>\n",
              "      <td>Kansa Vadha a.k.a. End Of The Tyrant King</td>\n",
              "      <td>G. V. Sane</td>\n",
              "      <td>unknown</td>\n",
              "      <td>mythology</td>\n",
              "    </tr>\n",
              "    <tr>\n",
              "      <th>4</th>\n",
              "      <td>1920</td>\n",
              "      <td>Katorabhar Khoon a.k.a.The Stinger Stung a.k.a...</td>\n",
              "      <td>S. N. Patankar</td>\n",
              "      <td>koregaonkar,gokhale,vyas,trymbakrao,pradhan,ta...</td>\n",
              "      <td>social</td>\n",
              "    </tr>\n",
              "    <tr>\n",
              "      <th>...</th>\n",
              "      <td>...</td>\n",
              "      <td>...</td>\n",
              "      <td>...</td>\n",
              "      <td>...</td>\n",
              "      <td>...</td>\n",
              "    </tr>\n",
              "    <tr>\n",
              "      <th>9677</th>\n",
              "      <td>2019</td>\n",
              "      <td>Panipat</td>\n",
              "      <td>Ashutosh Gowariker</td>\n",
              "      <td>Sanjay DuttArjun KapoorKriti SanonKabir Bedi</td>\n",
              "      <td>Action/battle</td>\n",
              "    </tr>\n",
              "    <tr>\n",
              "      <th>9678</th>\n",
              "      <td>2019</td>\n",
              "      <td>Pati, Patni Aur Woh</td>\n",
              "      <td>Mudassar Aziz</td>\n",
              "      <td>Kartik AaryanBhumi PednekarAnanya Panday</td>\n",
              "      <td>Comedy</td>\n",
              "    </tr>\n",
              "    <tr>\n",
              "      <th>9679</th>\n",
              "      <td>2019</td>\n",
              "      <td>Mardaani 2</td>\n",
              "      <td>Gopi Puthran</td>\n",
              "      <td>Rani MukherjeeVikram Singh ChauhanShruti Bapna...</td>\n",
              "      <td>Crime Thriller</td>\n",
              "    </tr>\n",
              "    <tr>\n",
              "      <th>9680</th>\n",
              "      <td>2019</td>\n",
              "      <td>Dabangg 3</td>\n",
              "      <td>Prabhu Deva</td>\n",
              "      <td>Salman KhanSonakshi SinhaArbaaz KhanMahie Gill...</td>\n",
              "      <td>Action</td>\n",
              "    </tr>\n",
              "    <tr>\n",
              "      <th>9681</th>\n",
              "      <td>2019</td>\n",
              "      <td>Good News</td>\n",
              "      <td>Raj Mehta</td>\n",
              "      <td>Akshay KumarKareena KapoorDiljit DosanjhKiara ...</td>\n",
              "      <td>Comedy</td>\n",
              "    </tr>\n",
              "  </tbody>\n",
              "</table>\n",
              "<p>9682 rows × 5 columns</p>\n",
              "</div>"
            ],
            "text/plain": [
              "      Year                                              Title  \\\n",
              "0     1920                     Balika Badhu a.k.a. Baby Bride   \n",
              "1     1920                   Daksha Yagna a.k.a. Sati Parvati   \n",
              "2     1920          Jalandhar Vrinda a.k.a. Sati Tulsi Vrinda   \n",
              "3     1920          Kansa Vadha a.k.a. End Of The Tyrant King   \n",
              "4     1920  Katorabhar Khoon a.k.a.The Stinger Stung a.k.a...   \n",
              "...    ...                                                ...   \n",
              "9677  2019                                            Panipat   \n",
              "9678  2019                                Pati, Patni Aur Woh   \n",
              "9679  2019                                         Mardaani 2   \n",
              "9680  2019                                          Dabangg 3   \n",
              "9681  2019                                          Good News   \n",
              "\n",
              "                             Director  \\\n",
              "0     P. T. Shaida (Tulsidutt Shaida)   \n",
              "1                  Vishnupant Divekar   \n",
              "2                          G. V. Sane   \n",
              "3                          G. V. Sane   \n",
              "4                      S. N. Patankar   \n",
              "...                               ...   \n",
              "9677               Ashutosh Gowariker   \n",
              "9678                    Mudassar Aziz   \n",
              "9679                     Gopi Puthran   \n",
              "9680                      Prabhu Deva   \n",
              "9681                        Raj Mehta   \n",
              "\n",
              "                                                   Cast           Genre  \n",
              "0         shaida,pandit,ali,miss,tarak,bagcha,tulsidutt          social  \n",
              "1                                  prabha,khalil,vaidya       mythology  \n",
              "2                                               unknown       mythology  \n",
              "3                                               unknown       mythology  \n",
              "4     koregaonkar,gokhale,vyas,trymbakrao,pradhan,ta...          social  \n",
              "...                                                 ...             ...  \n",
              "9677       Sanjay DuttArjun KapoorKriti SanonKabir Bedi   Action/battle  \n",
              "9678           Kartik AaryanBhumi PednekarAnanya Panday          Comedy  \n",
              "9679  Rani MukherjeeVikram Singh ChauhanShruti Bapna...  Crime Thriller  \n",
              "9680  Salman KhanSonakshi SinhaArbaaz KhanMahie Gill...          Action  \n",
              "9681  Akshay KumarKareena KapoorDiljit DosanjhKiara ...          Comedy  \n",
              "\n",
              "[9682 rows x 5 columns]"
            ]
          },
          "metadata": {
            "tags": []
          },
          "execution_count": 6
        }
      ]
    },
    {
      "cell_type": "code",
      "metadata": {
        "id": "02feaa3f"
      },
      "source": [
        "df = df.loc[df['Year']>1990]\n",
        "# Taking movies only after 1990"
      ],
      "id": "02feaa3f",
      "execution_count": null,
      "outputs": []
    },
    {
      "cell_type": "code",
      "metadata": {
        "id": "f8d2d8c2",
        "outputId": "7ebf7073-caf9-4f3a-f4bb-94171ea0042c"
      },
      "source": [
        "df\n",
        "# here we can see that the index numbering is starting from 6593 we wil be reseting it to start from 0\n"
      ],
      "id": "f8d2d8c2",
      "execution_count": null,
      "outputs": [
        {
          "output_type": "execute_result",
          "data": {
            "text/html": [
              "<div>\n",
              "<style scoped>\n",
              "    .dataframe tbody tr th:only-of-type {\n",
              "        vertical-align: middle;\n",
              "    }\n",
              "\n",
              "    .dataframe tbody tr th {\n",
              "        vertical-align: top;\n",
              "    }\n",
              "\n",
              "    .dataframe thead th {\n",
              "        text-align: right;\n",
              "    }\n",
              "</style>\n",
              "<table border=\"1\" class=\"dataframe\">\n",
              "  <thead>\n",
              "    <tr style=\"text-align: right;\">\n",
              "      <th></th>\n",
              "      <th>Year</th>\n",
              "      <th>Title</th>\n",
              "      <th>Director</th>\n",
              "      <th>Cast</th>\n",
              "      <th>Genre</th>\n",
              "    </tr>\n",
              "  </thead>\n",
              "  <tbody>\n",
              "    <tr>\n",
              "      <th>6653</th>\n",
              "      <td>1991</td>\n",
              "      <td>100 Days</td>\n",
              "      <td>Parto Ghosh</td>\n",
              "      <td>madhuri,shroff,jackie,dixit</td>\n",
              "      <td>thriller</td>\n",
              "    </tr>\n",
              "    <tr>\n",
              "      <th>6654</th>\n",
              "      <td>1991</td>\n",
              "      <td>Aag Laga Do Sawan Ko</td>\n",
              "      <td>Anup Malik</td>\n",
              "      <td>harish,patel</td>\n",
              "      <td>unknown</td>\n",
              "    </tr>\n",
              "    <tr>\n",
              "      <th>6655</th>\n",
              "      <td>1991</td>\n",
              "      <td>Aaj Ka Samson</td>\n",
              "      <td>Kuku Kapoor</td>\n",
              "      <td>chaddha,kapoor,sahila,goga,hemant,birje</td>\n",
              "      <td>action,romance</td>\n",
              "    </tr>\n",
              "    <tr>\n",
              "      <th>6656</th>\n",
              "      <td>1991</td>\n",
              "      <td>Aakhri Cheekh</td>\n",
              "      <td>Kiran Ramsay</td>\n",
              "      <td>ghatge,dhawan,vijay,anil,arora,vijayendra</td>\n",
              "      <td>horror</td>\n",
              "    </tr>\n",
              "    <tr>\n",
              "      <th>6657</th>\n",
              "      <td>1991</td>\n",
              "      <td>Afsana Pyar Ka</td>\n",
              "      <td>Shahjahan</td>\n",
              "      <td>khan,aamir,kothari,neelam</td>\n",
              "      <td>romance</td>\n",
              "    </tr>\n",
              "    <tr>\n",
              "      <th>...</th>\n",
              "      <td>...</td>\n",
              "      <td>...</td>\n",
              "      <td>...</td>\n",
              "      <td>...</td>\n",
              "      <td>...</td>\n",
              "    </tr>\n",
              "    <tr>\n",
              "      <th>9677</th>\n",
              "      <td>2019</td>\n",
              "      <td>Panipat</td>\n",
              "      <td>Ashutosh Gowariker</td>\n",
              "      <td>Sanjay DuttArjun KapoorKriti SanonKabir Bedi</td>\n",
              "      <td>Action/battle</td>\n",
              "    </tr>\n",
              "    <tr>\n",
              "      <th>9678</th>\n",
              "      <td>2019</td>\n",
              "      <td>Pati, Patni Aur Woh</td>\n",
              "      <td>Mudassar Aziz</td>\n",
              "      <td>Kartik AaryanBhumi PednekarAnanya Panday</td>\n",
              "      <td>Comedy</td>\n",
              "    </tr>\n",
              "    <tr>\n",
              "      <th>9679</th>\n",
              "      <td>2019</td>\n",
              "      <td>Mardaani 2</td>\n",
              "      <td>Gopi Puthran</td>\n",
              "      <td>Rani MukherjeeVikram Singh ChauhanShruti Bapna...</td>\n",
              "      <td>Crime Thriller</td>\n",
              "    </tr>\n",
              "    <tr>\n",
              "      <th>9680</th>\n",
              "      <td>2019</td>\n",
              "      <td>Dabangg 3</td>\n",
              "      <td>Prabhu Deva</td>\n",
              "      <td>Salman KhanSonakshi SinhaArbaaz KhanMahie Gill...</td>\n",
              "      <td>Action</td>\n",
              "    </tr>\n",
              "    <tr>\n",
              "      <th>9681</th>\n",
              "      <td>2019</td>\n",
              "      <td>Good News</td>\n",
              "      <td>Raj Mehta</td>\n",
              "      <td>Akshay KumarKareena KapoorDiljit DosanjhKiara ...</td>\n",
              "      <td>Comedy</td>\n",
              "    </tr>\n",
              "  </tbody>\n",
              "</table>\n",
              "<p>3029 rows × 5 columns</p>\n",
              "</div>"
            ],
            "text/plain": [
              "      Year                 Title            Director  \\\n",
              "6653  1991              100 Days         Parto Ghosh   \n",
              "6654  1991  Aag Laga Do Sawan Ko          Anup Malik   \n",
              "6655  1991         Aaj Ka Samson         Kuku Kapoor   \n",
              "6656  1991         Aakhri Cheekh        Kiran Ramsay   \n",
              "6657  1991        Afsana Pyar Ka           Shahjahan   \n",
              "...    ...                   ...                 ...   \n",
              "9677  2019               Panipat  Ashutosh Gowariker   \n",
              "9678  2019   Pati, Patni Aur Woh       Mudassar Aziz   \n",
              "9679  2019            Mardaani 2        Gopi Puthran   \n",
              "9680  2019             Dabangg 3         Prabhu Deva   \n",
              "9681  2019             Good News           Raj Mehta   \n",
              "\n",
              "                                                   Cast           Genre  \n",
              "6653                        madhuri,shroff,jackie,dixit        thriller  \n",
              "6654                                       harish,patel         unknown  \n",
              "6655            chaddha,kapoor,sahila,goga,hemant,birje  action,romance  \n",
              "6656          ghatge,dhawan,vijay,anil,arora,vijayendra          horror  \n",
              "6657                          khan,aamir,kothari,neelam         romance  \n",
              "...                                                 ...             ...  \n",
              "9677       Sanjay DuttArjun KapoorKriti SanonKabir Bedi   Action/battle  \n",
              "9678           Kartik AaryanBhumi PednekarAnanya Panday          Comedy  \n",
              "9679  Rani MukherjeeVikram Singh ChauhanShruti Bapna...  Crime Thriller  \n",
              "9680  Salman KhanSonakshi SinhaArbaaz KhanMahie Gill...          Action  \n",
              "9681  Akshay KumarKareena KapoorDiljit DosanjhKiara ...          Comedy  \n",
              "\n",
              "[3029 rows x 5 columns]"
            ]
          },
          "metadata": {
            "tags": []
          },
          "execution_count": 8
        }
      ]
    },
    {
      "cell_type": "code",
      "metadata": {
        "id": "5ddfdafb",
        "outputId": "2c1937d4-1447-4d6a-cdbc-5cae452515d5"
      },
      "source": [
        "df=df.reset_index().drop('index',1)\n",
        "df\n",
        "# here we have reset our indexing"
      ],
      "id": "5ddfdafb",
      "execution_count": null,
      "outputs": [
        {
          "output_type": "execute_result",
          "data": {
            "text/html": [
              "<div>\n",
              "<style scoped>\n",
              "    .dataframe tbody tr th:only-of-type {\n",
              "        vertical-align: middle;\n",
              "    }\n",
              "\n",
              "    .dataframe tbody tr th {\n",
              "        vertical-align: top;\n",
              "    }\n",
              "\n",
              "    .dataframe thead th {\n",
              "        text-align: right;\n",
              "    }\n",
              "</style>\n",
              "<table border=\"1\" class=\"dataframe\">\n",
              "  <thead>\n",
              "    <tr style=\"text-align: right;\">\n",
              "      <th></th>\n",
              "      <th>Year</th>\n",
              "      <th>Title</th>\n",
              "      <th>Director</th>\n",
              "      <th>Cast</th>\n",
              "      <th>Genre</th>\n",
              "    </tr>\n",
              "  </thead>\n",
              "  <tbody>\n",
              "    <tr>\n",
              "      <th>0</th>\n",
              "      <td>1991</td>\n",
              "      <td>100 Days</td>\n",
              "      <td>Parto Ghosh</td>\n",
              "      <td>madhuri,shroff,jackie,dixit</td>\n",
              "      <td>thriller</td>\n",
              "    </tr>\n",
              "    <tr>\n",
              "      <th>1</th>\n",
              "      <td>1991</td>\n",
              "      <td>Aag Laga Do Sawan Ko</td>\n",
              "      <td>Anup Malik</td>\n",
              "      <td>harish,patel</td>\n",
              "      <td>unknown</td>\n",
              "    </tr>\n",
              "    <tr>\n",
              "      <th>2</th>\n",
              "      <td>1991</td>\n",
              "      <td>Aaj Ka Samson</td>\n",
              "      <td>Kuku Kapoor</td>\n",
              "      <td>chaddha,kapoor,sahila,goga,hemant,birje</td>\n",
              "      <td>action,romance</td>\n",
              "    </tr>\n",
              "    <tr>\n",
              "      <th>3</th>\n",
              "      <td>1991</td>\n",
              "      <td>Aakhri Cheekh</td>\n",
              "      <td>Kiran Ramsay</td>\n",
              "      <td>ghatge,dhawan,vijay,anil,arora,vijayendra</td>\n",
              "      <td>horror</td>\n",
              "    </tr>\n",
              "    <tr>\n",
              "      <th>4</th>\n",
              "      <td>1991</td>\n",
              "      <td>Afsana Pyar Ka</td>\n",
              "      <td>Shahjahan</td>\n",
              "      <td>khan,aamir,kothari,neelam</td>\n",
              "      <td>romance</td>\n",
              "    </tr>\n",
              "    <tr>\n",
              "      <th>...</th>\n",
              "      <td>...</td>\n",
              "      <td>...</td>\n",
              "      <td>...</td>\n",
              "      <td>...</td>\n",
              "      <td>...</td>\n",
              "    </tr>\n",
              "    <tr>\n",
              "      <th>3024</th>\n",
              "      <td>2019</td>\n",
              "      <td>Panipat</td>\n",
              "      <td>Ashutosh Gowariker</td>\n",
              "      <td>Sanjay DuttArjun KapoorKriti SanonKabir Bedi</td>\n",
              "      <td>Action/battle</td>\n",
              "    </tr>\n",
              "    <tr>\n",
              "      <th>3025</th>\n",
              "      <td>2019</td>\n",
              "      <td>Pati, Patni Aur Woh</td>\n",
              "      <td>Mudassar Aziz</td>\n",
              "      <td>Kartik AaryanBhumi PednekarAnanya Panday</td>\n",
              "      <td>Comedy</td>\n",
              "    </tr>\n",
              "    <tr>\n",
              "      <th>3026</th>\n",
              "      <td>2019</td>\n",
              "      <td>Mardaani 2</td>\n",
              "      <td>Gopi Puthran</td>\n",
              "      <td>Rani MukherjeeVikram Singh ChauhanShruti Bapna...</td>\n",
              "      <td>Crime Thriller</td>\n",
              "    </tr>\n",
              "    <tr>\n",
              "      <th>3027</th>\n",
              "      <td>2019</td>\n",
              "      <td>Dabangg 3</td>\n",
              "      <td>Prabhu Deva</td>\n",
              "      <td>Salman KhanSonakshi SinhaArbaaz KhanMahie Gill...</td>\n",
              "      <td>Action</td>\n",
              "    </tr>\n",
              "    <tr>\n",
              "      <th>3028</th>\n",
              "      <td>2019</td>\n",
              "      <td>Good News</td>\n",
              "      <td>Raj Mehta</td>\n",
              "      <td>Akshay KumarKareena KapoorDiljit DosanjhKiara ...</td>\n",
              "      <td>Comedy</td>\n",
              "    </tr>\n",
              "  </tbody>\n",
              "</table>\n",
              "<p>3029 rows × 5 columns</p>\n",
              "</div>"
            ],
            "text/plain": [
              "      Year                 Title            Director  \\\n",
              "0     1991              100 Days         Parto Ghosh   \n",
              "1     1991  Aag Laga Do Sawan Ko          Anup Malik   \n",
              "2     1991         Aaj Ka Samson         Kuku Kapoor   \n",
              "3     1991         Aakhri Cheekh        Kiran Ramsay   \n",
              "4     1991        Afsana Pyar Ka           Shahjahan   \n",
              "...    ...                   ...                 ...   \n",
              "3024  2019               Panipat  Ashutosh Gowariker   \n",
              "3025  2019   Pati, Patni Aur Woh       Mudassar Aziz   \n",
              "3026  2019            Mardaani 2        Gopi Puthran   \n",
              "3027  2019             Dabangg 3         Prabhu Deva   \n",
              "3028  2019             Good News           Raj Mehta   \n",
              "\n",
              "                                                   Cast           Genre  \n",
              "0                           madhuri,shroff,jackie,dixit        thriller  \n",
              "1                                          harish,patel         unknown  \n",
              "2               chaddha,kapoor,sahila,goga,hemant,birje  action,romance  \n",
              "3             ghatge,dhawan,vijay,anil,arora,vijayendra          horror  \n",
              "4                             khan,aamir,kothari,neelam         romance  \n",
              "...                                                 ...             ...  \n",
              "3024       Sanjay DuttArjun KapoorKriti SanonKabir Bedi   Action/battle  \n",
              "3025           Kartik AaryanBhumi PednekarAnanya Panday          Comedy  \n",
              "3026  Rani MukherjeeVikram Singh ChauhanShruti Bapna...  Crime Thriller  \n",
              "3027  Salman KhanSonakshi SinhaArbaaz KhanMahie Gill...          Action  \n",
              "3028  Akshay KumarKareena KapoorDiljit DosanjhKiara ...          Comedy  \n",
              "\n",
              "[3029 rows x 5 columns]"
            ]
          },
          "metadata": {
            "tags": []
          },
          "execution_count": 9
        }
      ]
    },
    {
      "cell_type": "code",
      "metadata": {
        "id": "3db9c00a",
        "outputId": "f1d1c893-9b92-4c1e-827b-ce5a93b2c8ba"
      },
      "source": [
        "# here we are looking for null values in our dataset and well be replacing them.\n",
        "df.isnull().sum(axis=0)"
      ],
      "id": "3db9c00a",
      "execution_count": null,
      "outputs": [
        {
          "output_type": "execute_result",
          "data": {
            "text/plain": [
              "Year        0\n",
              "Title       0\n",
              "Director    0\n",
              "Cast        0\n",
              "Genre       1\n",
              "dtype: int64"
            ]
          },
          "metadata": {
            "tags": []
          },
          "execution_count": 10
        }
      ]
    },
    {
      "cell_type": "code",
      "metadata": {
        "id": "98e97467"
      },
      "source": [
        "# In the ‘Genre’ column, some values have two genres separated by a comma in a cell-like “action, comedy”. \n",
        "# While calculating similarities, Python will consider it a single string while they are two different genres \n",
        "# of the same movie. So we have to replace the comma with whitespace so they will be considered different like “action comedy”.\n",
        "\n",
        "df['Genre'] = df['Genre'].str.replace(',',' ')\n",
        "\n",
        "# similarly replacing commas in cast column too.\n",
        "df['Cast'] = df['Cast'].str.replace(',',' ')"
      ],
      "id": "98e97467",
      "execution_count": null,
      "outputs": []
    },
    {
      "cell_type": "code",
      "metadata": {
        "id": "5ffeb057",
        "outputId": "1e8d8cdc-6510-47b5-b2c9-64fe6abd3e99"
      },
      "source": [
        "df['Cast'].head()"
      ],
      "id": "5ffeb057",
      "execution_count": null,
      "outputs": [
        {
          "output_type": "execute_result",
          "data": {
            "text/plain": [
              "0                  madhuri shroff jackie dixit\n",
              "1                                 harish patel\n",
              "2      chaddha kapoor sahila goga hemant birje\n",
              "3    ghatge dhawan vijay anil arora vijayendra\n",
              "4                    khan aamir kothari neelam\n",
              "Name: Cast, dtype: object"
            ]
          },
          "metadata": {
            "tags": []
          },
          "execution_count": 12
        }
      ]
    },
    {
      "cell_type": "code",
      "metadata": {
        "id": "301a1c8f"
      },
      "source": [
        "# In the ‘Director’ columns, the name and surname is separated by whitespace. Here name and surname will be considered \n",
        "# as two different words and this can lead to false similarity. For example, two directors \n",
        "#  “Sajid Khan” and “Salim Khan” will be considered 50% similar by Python, while they are two completely\n",
        "# different persons. So converting them to “SajidKhan” and “SalimKhan” will help us.\n",
        "\n",
        "df['Director'] = df['Director'].str.replace(' ','')"
      ],
      "id": "301a1c8f",
      "execution_count": null,
      "outputs": []
    },
    {
      "cell_type": "code",
      "metadata": {
        "id": "da5bb03a",
        "outputId": "c23b5ad8-9101-423a-eba0-250d75cdbd53"
      },
      "source": [
        "df['Director'].head()"
      ],
      "id": "da5bb03a",
      "execution_count": null,
      "outputs": [
        {
          "output_type": "execute_result",
          "data": {
            "text/plain": [
              "0     PartoGhosh\n",
              "1      AnupMalik\n",
              "2     KukuKapoor\n",
              "3    KiranRamsay\n",
              "4      Shahjahan\n",
              "Name: Director, dtype: object"
            ]
          },
          "metadata": {
            "tags": []
          },
          "execution_count": 14
        }
      ]
    },
    {
      "cell_type": "code",
      "metadata": {
        "id": "b98cd08a"
      },
      "source": [
        "# converting the movie title into lower case for searching simplicity.\n",
        "df['Title'] = df['Title'].str.lower()"
      ],
      "id": "b98cd08a",
      "execution_count": null,
      "outputs": []
    },
    {
      "cell_type": "code",
      "metadata": {
        "id": "84d0cfcd"
      },
      "source": [
        "# Now we’ll sum up the text of all the features we’re going to use for measuring similarity in one column. \n",
        "# But first, we have to convert the data type of the ‘Year’ column from int to string.\n",
        "\n",
        "df['Year'] = df['Year'].astype(str)"
      ],
      "id": "84d0cfcd",
      "execution_count": null,
      "outputs": []
    },
    {
      "cell_type": "code",
      "metadata": {
        "id": "6334d0de"
      },
      "source": [
        "# creating the combined feature.\n",
        "df['comb'] = df['Year']+' '+df['Director']+' '+df['Genre']+' '+df['Cast']"
      ],
      "id": "6334d0de",
      "execution_count": null,
      "outputs": []
    },
    {
      "cell_type": "code",
      "metadata": {
        "id": "256bd124",
        "outputId": "e41e5f5d-ca93-48be-af78-31f9cfb64936"
      },
      "source": [
        "df['comb']"
      ],
      "id": "256bd124",
      "execution_count": null,
      "outputs": [
        {
          "output_type": "execute_result",
          "data": {
            "text/plain": [
              "0       1991 PartoGhosh thriller madhuri shroff jackie...\n",
              "1                     1991 AnupMalik unknown harish patel\n",
              "2       1991 KukuKapoor action romance chaddha kapoor ...\n",
              "3       1991 KiranRamsay horror ghatge dhawan vijay an...\n",
              "4        1991 Shahjahan romance khan aamir kothari neelam\n",
              "                              ...                        \n",
              "3024    2019 AshutoshGowariker Action/battle Sanjay Du...\n",
              "3025    2019 MudassarAziz Comedy Kartik AaryanBhumi Pe...\n",
              "3026    2019 GopiPuthran Crime Thriller Rani Mukherjee...\n",
              "3027    2019 PrabhuDeva Action Salman KhanSonakshi Sin...\n",
              "3028    2019 RajMehta Comedy Akshay KumarKareena Kapoo...\n",
              "Name: comb, Length: 3029, dtype: object"
            ]
          },
          "metadata": {
            "tags": []
          },
          "execution_count": 18
        }
      ]
    },
    {
      "cell_type": "code",
      "metadata": {
        "id": "008c87f7"
      },
      "source": [
        "# making a count matrix of features and then a similarity Score matrix. \n",
        "# The similarity score matrix contains the cosine similarity of all the movies in the dataset. \n",
        "# We can get the similarity score of two movies by their index in the dataset.\n",
        "\n",
        "cv = CountVectorizer()\n",
        "\n",
        "count_matrix= cv.fit_transform(df['comb'].values.astype('U'))\n",
        "sim = cosine_similarity(count_matrix)"
      ],
      "id": "008c87f7",
      "execution_count": null,
      "outputs": []
    },
    {
      "cell_type": "code",
      "metadata": {
        "id": "9072fe3a",
        "outputId": "659cf4b4-1680-495c-a70a-a53d99ee5e7e"
      },
      "source": [
        "sim"
      ],
      "id": "9072fe3a",
      "execution_count": null,
      "outputs": [
        {
          "output_type": "execute_result",
          "data": {
            "text/plain": [
              "array([[1.        , 0.16903085, 0.11952286, ..., 0.11396058, 0.        ,\n",
              "        0.        ],\n",
              "       [0.16903085, 1.        , 0.14142136, ..., 0.        , 0.        ,\n",
              "        0.        ],\n",
              "       [0.11952286, 0.14142136, 1.        , ..., 0.        , 0.1118034 ,\n",
              "        0.        ],\n",
              "       ...,\n",
              "       [0.11396058, 0.        , 0.        , ..., 1.        , 0.10660036,\n",
              "        0.10660036],\n",
              "       [0.        , 0.        , 0.1118034 , ..., 0.10660036, 1.        ,\n",
              "        0.125     ],\n",
              "       [0.        , 0.        , 0.        , ..., 0.10660036, 0.125     ,\n",
              "        1.        ]])"
            ]
          },
          "metadata": {
            "tags": []
          },
          "execution_count": 20
        }
      ]
    },
    {
      "cell_type": "code",
      "metadata": {
        "id": "ab760c77",
        "outputId": "172c075b-b3cd-4267-967f-66a17e616ad4"
      },
      "source": [
        "# naming a movie user like. Convert it to the small case, cause we converted all the titles to small case. \n",
        "# Then check if this movie exists in our dataset or not.\n",
        "\n",
        "m = 'Hungama'\n",
        "m = m.lower()\n",
        "m in df['Title'].unique()"
      ],
      "id": "ab760c77",
      "execution_count": null,
      "outputs": [
        {
          "output_type": "execute_result",
          "data": {
            "text/plain": [
              "True"
            ]
          },
          "metadata": {
            "tags": []
          },
          "execution_count": 21
        }
      ]
    },
    {
      "cell_type": "code",
      "metadata": {
        "id": "496c1908",
        "outputId": "df728237-27af-4460-fccf-868c5581d44c"
      },
      "source": [
        "# geting the index of the movie in the dataset. \n",
        "# Then fetch the row on the same index from the similarity score matrix, which has the similarity \n",
        "# scores of all the movies to the movie user like.\n",
        "\n",
        "i = df.loc[df['Title'] == m].index[0]\n",
        "print(i)"
      ],
      "id": "496c1908",
      "execution_count": null,
      "outputs": [
        {
          "output_type": "stream",
          "text": [
            "1183\n"
          ],
          "name": "stdout"
        }
      ]
    },
    {
      "cell_type": "code",
      "metadata": {
        "id": "ee802610",
        "outputId": "c96472eb-e812-4186-b011-e8a7da50037e"
      },
      "source": [
        "# getting the row related to movie from similarity score matrix.\n",
        "# enumerating the rows so that we dint lose the indexing after sorting in form of list.\n",
        "sim[i]"
      ],
      "id": "ee802610",
      "execution_count": null,
      "outputs": [
        {
          "output_type": "execute_result",
          "data": {
            "text/plain": [
              "array([0.        , 0.        , 0.        , ..., 0.        , 0.        ,\n",
              "       0.09805807])"
            ]
          },
          "metadata": {
            "tags": []
          },
          "execution_count": 23
        }
      ]
    },
    {
      "cell_type": "code",
      "metadata": {
        "id": "e934205b"
      },
      "source": [
        "lst = list(enumerate(sim[i]))"
      ],
      "id": "e934205b",
      "execution_count": null,
      "outputs": []
    },
    {
      "cell_type": "code",
      "metadata": {
        "id": "9ff2314c",
        "outputId": "8bea6cbd-7905-4d43-9d6e-44def472269a"
      },
      "source": [
        "lst[:20]"
      ],
      "id": "9ff2314c",
      "execution_count": null,
      "outputs": [
        {
          "output_type": "execute_result",
          "data": {
            "text/plain": [
              "[(0, 0.0),\n",
              " (1, 0.0),\n",
              " (2, 0.0),\n",
              " (3, 0.0),\n",
              " (4, 0.0),\n",
              " (5, 0.0),\n",
              " (6, 0.0),\n",
              " (7, 0.0),\n",
              " (8, 0.0),\n",
              " (9, 0.0),\n",
              " (10, 0.0),\n",
              " (11, 0.0),\n",
              " (12, 0.0),\n",
              " (13, 0.08362420100070908),\n",
              " (14, 0.0),\n",
              " (15, 0.09245003270420485),\n",
              " (16, 0.0),\n",
              " (17, 0.0),\n",
              " (18, 0.0),\n",
              " (19, 0.0)]"
            ]
          },
          "metadata": {
            "tags": []
          },
          "execution_count": 25
        }
      ]
    },
    {
      "cell_type": "code",
      "metadata": {
        "id": "22dfcc10"
      },
      "source": [
        "# sorting the list in descending order of similarity score.\n",
        "lst = sorted(lst, key = lambda x:x[1], reverse = True)\n",
        "\n",
        "#as we need only 10 most similar movies keeping only the ten movies other than the movie we entered itself.\n",
        "lst = lst[1:11]"
      ],
      "id": "22dfcc10",
      "execution_count": null,
      "outputs": []
    },
    {
      "cell_type": "code",
      "metadata": {
        "id": "d927dbcd",
        "outputId": "9b642360-048c-4e9c-e0d2-a391d6d3cf5c"
      },
      "source": [
        "# getting the list of recommended movies.\n",
        "m = []\n",
        "\n",
        "for i in range(len(lst)):\n",
        "    a = lst[i][0]\n",
        "    m.append(df['Title'][a])\n",
        "print(m)"
      ],
      "id": "d927dbcd",
      "execution_count": null,
      "outputs": [
        {
          "output_type": "stream",
          "text": [
            "['mere baap pehle aap', 'aakrosh', 'kamaal dhamaal malamaal', 'main madhuri dixit banna chahti hoon', 'chup chup ke', 'phir hera pheri', 'hattrick', 'no problem', 'bhagam bhag', 'de taali']\n"
          ],
          "name": "stdout"
        }
      ]
    },
    {
      "cell_type": "code",
      "metadata": {
        "id": "a4f291f6",
        "outputId": "3953a62f-3238-4fd2-f088-d64abba54936"
      },
      "source": [
        "for i in range(len(m)):\n",
        "    print(m[i])"
      ],
      "id": "a4f291f6",
      "execution_count": null,
      "outputs": [
        {
          "output_type": "stream",
          "text": [
            "mere baap pehle aap\n",
            "aakrosh\n",
            "kamaal dhamaal malamaal\n",
            "main madhuri dixit banna chahti hoon\n",
            "chup chup ke\n",
            "phir hera pheri\n",
            "hattrick\n",
            "no problem\n",
            "bhagam bhag\n",
            "de taali\n"
          ],
          "name": "stdout"
        }
      ]
    },
    {
      "cell_type": "code",
      "metadata": {
        "id": "50ab094e"
      },
      "source": [
        "# creating a function that takes a movie you like as input and returns the suggestions\n",
        "def recommend(m):\n",
        "    m = m.lower()\n",
        "    if m not in df['Title'].unique():\n",
        "        print(\"\"\"\"This movie is not in our database.\n",
        "                    please enter other.\"\"\")\n",
        "    else:\n",
        "        i = df.loc[df['Title'] == m].index[0]\n",
        "        lst = list(enumerate(sim[i]))\n",
        "        lst = sorted(lst, key = lambda x:x[1], reverse = True)\n",
        "        lst = lst[1:11]\n",
        "        l = []\n",
        "        for i in range(len(lst)):\n",
        "            a = lst[i][0]\n",
        "            l.append(df['Title'][a])\n",
        "        for i in range(len(l)):\n",
        "            print(l[i])"
      ],
      "id": "50ab094e",
      "execution_count": null,
      "outputs": []
    },
    {
      "cell_type": "code",
      "metadata": {
        "id": "480490eb",
        "outputId": "4107b019-6b31-4089-8e69-52c7f4136adb"
      },
      "source": [
        "recommend('Jai ho')"
      ],
      "id": "480490eb",
      "execution_count": null,
      "outputs": [
        {
          "output_type": "stream",
          "text": [
            "auzaar\n",
            "army\n",
            "kick\n",
            "chaand kaa tukdaa\n",
            "pyaar kiya to darna kya\n",
            "hello brother\n",
            "koyelaanchal\n",
            "balwaan\n",
            "dil tera aashiq\n",
            "shastra\n"
          ],
          "name": "stdout"
        }
      ]
    },
    {
      "cell_type": "code",
      "metadata": {
        "id": "def7c279"
      },
      "source": [
        ""
      ],
      "id": "def7c279",
      "execution_count": null,
      "outputs": []
    }
  ]
}